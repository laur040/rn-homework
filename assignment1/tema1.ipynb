{
  "metadata": {
    "kernelspec": {
      "name": "python",
      "display_name": "Python (Pyodide)",
      "language": "python"
    },
    "language_info": {
      "codemirror_mode": {
        "name": "python",
        "version": 3
      },
      "file_extension": ".py",
      "mimetype": "text/x-python",
      "name": "python",
      "nbconvert_exporter": "python",
      "pygments_lexer": "ipython3",
      "version": "3.8"
    }
  },
  "nbformat_minor": 5,
  "nbformat": 4,
  "cells": [
    {
      "id": "2c404fad-39ba-4b18-ba61-95d721705ca8",
      "cell_type": "markdown",
      "source": "1. Parsing the System of Equations ",
      "metadata": {}
    },
    {
      "id": "005c1a08-b4ac-4201-bc9b-b11bac20c585",
      "cell_type": "code",
      "source": "import pathlib\n\ndef load_system(path: pathlib.Path) -> tuple[list[list[float]], list[float]]:\n    file1 = open(\"system.txt\", \"r\")\n    coefs = []\n    results = []\n    for line in file1:\n        eq = line.split('=')[0]\n        eq = eq.replace(\" \",\"\")\n        coef = []\n        \n        eqparts = eq.split(\"x\")[0], eq.split(\"x\")[1].split(\"y\")[0], eq.split(\"x\")[1].split(\"y\")[1].split(\"z\")[0]\n        for eqpart in eqparts:\n            if eqpart == '' or eqpart == '+' :\n                coef.append(1)\n            elif eqpart == '-':\n                coef.append(-1)\n            else :\n                coef.append(int(eqpart))\n        coefs.append(coef)\n\n        rez = line.split('=')[1]\n        rez = rez.replace(' ','')\n        results.append(int(rez))\n        \n            \n    return coefs, results\n\nA, B = load_system(pathlib.Path(\"system.txt\"))\nprint(f\"{A=} {B=}\")",
      "metadata": {
        "trusted": true
      },
      "outputs": [
        {
          "name": "stdout",
          "text": "A=[[2, 3, -1], [1, -1, 4], [3, 1, 2]] B=[5, 6, 7]\n",
          "output_type": "stream"
        }
      ],
      "execution_count": 55
    },
    {
      "id": "650a78c3-226c-4078-a187-8500f96c3f84",
      "cell_type": "markdown",
      "source": "2.1. Determinant",
      "metadata": {}
    },
    {
      "id": "d00df541-b196-4402-9023-93a54cd5ce7f",
      "cell_type": "code",
      "source": "def determinant(matrix: list[list[float]]) -> float:\n    if len(matrix) == 2 and len(matrix[0])==2:\n        a11 , a12 = matrix[0]\n        a21 , a22 = matrix[1]\n        return a11*a22 - a21*a12\n    else:\n        a11 , a12, a13 = matrix[0]\n        a21 , a22, a23 = matrix[1]\n        a31 , a32, a33 = matrix[2]\n        det = float( a11 * (a22*a33 - a23*a32) - a12 * (a21*a33 - a23*a31) + a13 * (a21*a32 - a22*a31))\n        return det\n\nprint(f\"{determinant(A)=}\")",
      "metadata": {
        "trusted": true
      },
      "outputs": [
        {
          "name": "stdout",
          "text": "determinant(A)=14.0\n",
          "output_type": "stream"
        }
      ],
      "execution_count": 71
    },
    {
      "id": "5094dd68-8b33-445b-898f-c4fa9d1e8ed9",
      "cell_type": "markdown",
      "source": "2.2. Trace",
      "metadata": {}
    },
    {
      "id": "db2d4935-ede2-42ba-97fa-ed439697e112",
      "cell_type": "code",
      "source": "def trace(matrix: list[list[float]]) -> float:\n    a11 = matrix[0][0]\n    a22 = matrix[1][1]\n    a33 = matrix[2][2]\n    tr = float(a11 + a22 + a33)\n    return tr\n\nprint(f\"{trace(A)=}\")",
      "metadata": {
        "trusted": true
      },
      "outputs": [
        {
          "name": "stdout",
          "text": "trace(A)=3.0\n",
          "output_type": "stream"
        }
      ],
      "execution_count": 10
    },
    {
      "id": "ff64505a-57cb-4158-966e-d420dfff7a81",
      "cell_type": "markdown",
      "source": "2.3. Vector norm",
      "metadata": {}
    },
    {
      "id": "72b44f65-abb5-4fba-af55-75d73499199d",
      "cell_type": "code",
      "source": "import math\n\ndef norm(vector: list[float]) -> float:\n    b1 = vector[0]\n    b2 = vector[1]\n    b3 = vector[2]\n    n = math.sqrt( b1**2 + b2**2 + b3**2)\n    return n\n\nprint(f\"{norm(B)=}\")",
      "metadata": {
        "trusted": true
      },
      "outputs": [
        {
          "name": "stdout",
          "text": "norm(B)=10.488088481701515\n",
          "output_type": "stream"
        }
      ],
      "execution_count": 11
    },
    {
      "id": "836ff968-e94b-4c42-985e-0ee7b61b5271",
      "cell_type": "markdown",
      "source": "2.4. Transpose of matrix",
      "metadata": {}
    },
    {
      "id": "56ece446-c16c-453c-9b5c-eefaf43dbf11",
      "cell_type": "code",
      "source": "def transpose(matrix: list[list[float]]) -> list[list[float]]:\n    trans = []\n    row1 = [matrix[0][0], matrix[1][0], matrix[2][0]]\n    trans.append(row1)\n    row2 = [matrix[0][1], matrix[1][1], matrix[2][1]]\n    trans.append(row2)\n    row3 = [matrix[0][2], matrix[1][2], matrix[2][2]]\n    trans.append(row3)\n    return trans\n\nprint(f\"{transpose(A)=}\")",
      "metadata": {
        "trusted": true
      },
      "outputs": [
        {
          "name": "stdout",
          "text": "transpose(A)=[[2, 1, 3], [3, -1, 1], [-1, 4, 2]]\n",
          "output_type": "stream"
        }
      ],
      "execution_count": 13
    },
    {
      "id": "32e812de-0f04-4191-b133-9a4c71e339a2",
      "cell_type": "markdown",
      "source": "2.5. Matrix-vector multiplication",
      "metadata": {}
    },
    {
      "id": "07ed49cc-7a23-4329-a826-367cfeef6a0f",
      "cell_type": "code",
      "source": "def multiply(matrix: list[list[float]], vector: list[float]) -> list[float]:\n    result=[]\n    for row in matrix:\n        rez=0\n        for i in range(0,3):\n            rez = rez + row[i]*vector[i]\n        result.append(rez)\n    return result\n\nprint(f\"{multiply(A, B)=}\")",
      "metadata": {
        "trusted": true
      },
      "outputs": [
        {
          "name": "stdout",
          "text": "multiply(A, B)=[21, 27, 35]\n",
          "output_type": "stream"
        }
      ],
      "execution_count": 18
    },
    {
      "id": "481027a1-cd30-4f69-801d-56ab25ac72d3",
      "cell_type": "markdown",
      "source": "3. Solving using Cramer's Rule",
      "metadata": {}
    },
    {
      "id": "db332216-4d56-41d5-9665-0f7e3c41d403",
      "cell_type": "code",
      "source": "import copy\ndef new_matrix(matrix: list[list[float]], vector: list[float], colon: int):\n    i = 0\n    matrix2 = copy.deepcopy(matrix)\n    for row in matrix2:\n        row[colon] = vector[i]\n        i+=1\n    return matrix2\n\n\ndef solve_cramer(matrix: list[list[float]], vector: list[float]) -> list[float]:\n    result = []\n    for i in range (0,3):\n        matrixx = copy.deepcopy(new_matrix(matrix, vector, i))\n        rez = determinant(matrixx) / determinant(matrix)\n        result.append(rez)\n    return result\n    \nprint(f\"{solve_cramer(A, B)=}\")",
      "metadata": {
        "trusted": true
      },
      "outputs": [
        {
          "name": "stdout",
          "text": "solve_cramer(A, B)=[0.35714285714285715, 2.0714285714285716, 1.9285714285714286]\n",
          "output_type": "stream"
        }
      ],
      "execution_count": 49
    },
    {
      "id": "d0e8d9ab-1d46-4471-a170-157a29f8490b",
      "cell_type": "markdown",
      "source": "4. Solving using Inversion",
      "metadata": {}
    },
    {
      "id": "1030688d-c980-48c4-9d97-6696a2fb7020",
      "cell_type": "code",
      "source": "def minor(matrix: list[list[float]], i: int, j: int) -> list[list[float]]:\n    minor = copy.deepcopy(matrix)\n    for row in minor:\n        del row[j]\n    minor.remove(minor[i])\n    return minor\n    \nprint(f\"{minor(A,0,0)=}\")",
      "metadata": {
        "trusted": true
      },
      "outputs": [
        {
          "name": "stdout",
          "text": "minor(A,0,0)=[[-1, 4], [1, 2]]\n",
          "output_type": "stream"
        }
      ],
      "execution_count": 61
    },
    {
      "id": "87ca57fd-40ce-4bea-90b8-cd915947e6fc",
      "cell_type": "code",
      "source": "def cofactor(matrix: list[list[float]]) -> list[list[float]]:\n    cofactor = []\n    for i in range (0,3):\n        row = []\n        for j in range (0,3):\n            minn = minor(matrix, i, j)\n            elem = (-1) ** (i +1 + j +1) * determinant(minn)\n            row.append(elem)\n        cofactor.append(row)\n    return cofactor\nprint(f\"{cofactor(A)}\")",
      "metadata": {
        "trusted": true
      },
      "outputs": [
        {
          "name": "stdout",
          "text": "[[-6, 10, 4], [-7, 7, 7], [11, -9, -5]]\n",
          "output_type": "stream"
        }
      ],
      "execution_count": 75
    },
    {
      "id": "b7aecd90-f5fa-4825-9591-b594c893528c",
      "cell_type": "code",
      "source": "def adjoint(matrix: list[list[float]]) -> list[list[float]]:\n    cofact = cofactor(matrix)\n    adj = transpose(cofact)\n    return adj\nprint(f\"{adjoint(A)}\")",
      "metadata": {
        "trusted": true
      },
      "outputs": [
        {
          "name": "stdout",
          "text": "[[-6, -7, 11], [10, 7, -9], [4, 7, -5]]\n",
          "output_type": "stream"
        }
      ],
      "execution_count": 76
    },
    {
      "id": "0c15b3ea-0e03-4206-ae77-08fe5668b206",
      "cell_type": "code",
      "source": "def solve(matrix: list[list[float]], vector: list[float]) -> list[float]:\n    inv = []\n    adj = adjoint(matrix)\n    det = determinant(matrix)\n    for row in adj:\n        line=[]\n        for elem in row:\n            el = elem * (1/det)\n            line.append(el)\n        inv.append(line)\n    print(inv)\n    result = multiply(inv, vector)\n    return result\n\nprint(f\"{solve(A, B)=}\")",
      "metadata": {
        "trusted": true
      },
      "outputs": [
        {
          "name": "stdout",
          "text": "[[-0.42857142857142855, -0.5, 0.7857142857142857], [0.7142857142857142, 0.5, -0.6428571428571428], [0.2857142857142857, 0.5, -0.3571428571428571]]\nsolve(A, B)=[0.35714285714285765, 2.071428571428571, 1.9285714285714293]\n",
          "output_type": "stream"
        }
      ],
      "execution_count": 77
    },
    {
      "id": "d60dc213-2e37-43a8-9d32-2176ca2e0542",
      "cell_type": "code",
      "source": "",
      "metadata": {
        "trusted": true
      },
      "outputs": [],
      "execution_count": null
    }
  ]
}